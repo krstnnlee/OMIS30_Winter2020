{
 "cells": [
  {
   "cell_type": "markdown",
   "metadata": {},
   "source": [
    "#### author: midavis\n",
    "#### last modified: 2020-02-03\n",
    "#### For Loops Practice HW Solutions"
   ]
  },
  {
   "cell_type": "code",
   "execution_count": 1,
   "metadata": {},
   "outputs": [
    {
     "name": "stdout",
     "output_type": "stream",
     "text": [
      "-7\n",
      "-6\n",
      "-5\n",
      "-4\n",
      "-3\n",
      "-2\n"
     ]
    }
   ],
   "source": [
    "# Use a for loop to print all the numbers between -7 and -2 \n",
    "# (including the ends, in increasing order).  Use the range function.\n",
    "for i in range(-7,-1,1):\n",
    "    print(i)"
   ]
  },
  {
   "cell_type": "code",
   "execution_count": 2,
   "metadata": {},
   "outputs": [
    {
     "name": "stdout",
     "output_type": "stream",
     "text": [
      "37\n",
      "35\n",
      "33\n",
      "31\n",
      "29\n",
      "27\n",
      "25\n",
      "23\n",
      "37\n",
      "35\n",
      "33\n",
      "31\n",
      "29\n",
      "27\n",
      "25\n",
      "23\n"
     ]
    }
   ],
   "source": [
    "# Use a for loop to print the odd numbers between 23 and 37 \n",
    "# (including the ends, in decreasing order).  Use the range function.\n",
    "for j in range(37,22,-2):\n",
    "    print(j)\n",
    "# or\n",
    "for j in range(37,22,-1):\n",
    "    if j % 2 == 1:\n",
    "        print(j)\n",
    "        \n",
    "# Either way works. The first way is faster (does fewer iterations), \n",
    "# but (in my opinion) is a bit harder to read and interpret what the user is trying to do."
   ]
  },
  {
   "cell_type": "code",
   "execution_count": 3,
   "metadata": {},
   "outputs": [
    {
     "name": "stdout",
     "output_type": "stream",
     "text": [
      "3\n",
      "6\n",
      "9\n",
      "12\n",
      "15\n",
      "18\n",
      "21\n",
      "24\n",
      "27\n",
      "30\n",
      "33\n",
      "36\n",
      "39\n",
      "42\n",
      "45\n",
      "48\n",
      "3\n",
      "6\n",
      "9\n",
      "12\n",
      "15\n",
      "18\n",
      "21\n",
      "24\n",
      "27\n",
      "30\n",
      "33\n",
      "36\n",
      "39\n",
      "42\n",
      "45\n",
      "48\n"
     ]
    }
   ],
   "source": [
    "# Use a for loop to print out any number between 0 and 50 that is evenly divisible by 3.  \n",
    "# Do not include the ends (0 or 50), and print the values out in ascending order.\n",
    "for k in range(1,50,1):\n",
    "    if k % 3 == 0:\n",
    "        print(k)\n",
    "# or\n",
    "for k in range(3,50,3):\n",
    "    print(k)\n",
    "    \n",
    "# Again, either way works.  \n",
    "# If you made this more complex and wanted to figure out what numbers between 1 million and 1 billion \n",
    "# that were evenly divisisble by 7,13, and 19, you'd probably want to use the if statement way."
   ]
  },
  {
   "cell_type": "code",
   "execution_count": 4,
   "metadata": {},
   "outputs": [
    {
     "name": "stdout",
     "output_type": "stream",
     "text": [
      "['apples', 'bananas', 'dates', 'grapes']\n"
     ]
    }
   ],
   "source": [
    "# Given the variable:\n",
    "# shopping_list = ['apples', 'bananas', 'cookies', 'dates', 'eggs', 'figs', 'grapes']\n",
    "# Create a new list called: 'foods_that_have_an_a_in_them'\n",
    "# Use a for loop to add elements in shopping_list to your new list - if the element in the shopping list has an 'a' in it.\n",
    "# Print out the new list after your for loop completes.\n",
    "shopping_list = ['apples', 'bananas', 'cookies', 'dates', 'eggs', 'figs', 'grapes']\n",
    "foods_that_have_an_a_in_them = list()\n",
    "for item in shopping_list:\n",
    "    if 'a' in item:\n",
    "        foods_that_have_an_a_in_them.append(item)\n",
    "print(foods_that_have_an_a_in_them)\n",
    "\n",
    "# May want to consider whether or not the values could be upper-cased."
   ]
  },
  {
   "cell_type": "code",
   "execution_count": null,
   "metadata": {},
   "outputs": [],
   "source": []
  }
 ],
 "metadata": {
  "kernelspec": {
   "display_name": "Python 3",
   "language": "python",
   "name": "python3"
  },
  "language_info": {
   "codemirror_mode": {
    "name": "ipython",
    "version": 3
   },
   "file_extension": ".py",
   "mimetype": "text/x-python",
   "name": "python",
   "nbconvert_exporter": "python",
   "pygments_lexer": "ipython3",
   "version": "3.7.4"
  }
 },
 "nbformat": 4,
 "nbformat_minor": 2
}
