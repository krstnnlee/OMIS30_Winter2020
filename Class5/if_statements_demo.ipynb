{
 "cells": [
  {
   "cell_type": "code",
   "execution_count": 1,
   "metadata": {},
   "outputs": [
    {
     "name": "stdout",
     "output_type": "stream",
     "text": [
      "happy\n"
     ]
    }
   ],
   "source": [
    "a = 2\n",
    "\n",
    "# double equals\n",
    "if a == 2: # if (this is true) # the \":\" is saying, then do this:\n",
    "    print('happy')\n",
    "else:\n",
    "    print('sad')"
   ]
  },
  {
   "cell_type": "code",
   "execution_count": 2,
   "metadata": {},
   "outputs": [
    {
     "data": {
      "text/plain": [
       "True"
      ]
     },
     "execution_count": 2,
     "metadata": {},
     "output_type": "execute_result"
    }
   ],
   "source": [
    "a == 2"
   ]
  },
  {
   "cell_type": "code",
   "execution_count": 3,
   "metadata": {},
   "outputs": [
    {
     "name": "stdout",
     "output_type": "stream",
     "text": [
      "sad\n"
     ]
    }
   ],
   "source": [
    "a = 3\n",
    "\n",
    "# double equals\n",
    "if a == 2: # if (this is true) # the \":\" is saying, then do this:\n",
    "    print('happy')\n",
    "else:\n",
    "    print('sad')"
   ]
  },
  {
   "cell_type": "code",
   "execution_count": 4,
   "metadata": {},
   "outputs": [
    {
     "name": "stdout",
     "output_type": "stream",
     "text": [
      "sad\n"
     ]
    }
   ],
   "source": [
    "a = True\n",
    "\n",
    "# double equals\n",
    "if a == 2: # if (this is true) # the \":\" is saying, then do this:\n",
    "    print('happy')\n",
    "else:\n",
    "    print('sad')"
   ]
  },
  {
   "cell_type": "code",
   "execution_count": 5,
   "metadata": {},
   "outputs": [
    {
     "name": "stdout",
     "output_type": "stream",
     "text": [
      "sad\n"
     ]
    }
   ],
   "source": [
    "a = 'Mike'\n",
    "\n",
    "# double equals\n",
    "if a == 2: # if (this is true) # the \":\" is saying, then do this:\n",
    "    print('happy')\n",
    "else:\n",
    "    print('sad')"
   ]
  },
  {
   "cell_type": "code",
   "execution_count": 6,
   "metadata": {},
   "outputs": [],
   "source": [
    "a = True\n",
    "\n",
    "# double equals\n",
    "if a == 2: # if (this is true) # the \":\" is saying, then do this:\n",
    "    print('happy')"
   ]
  },
  {
   "cell_type": "code",
   "execution_count": 7,
   "metadata": {},
   "outputs": [
    {
     "name": "stdout",
     "output_type": "stream",
     "text": [
      "less than 3\n"
     ]
    }
   ],
   "source": [
    "a = 2\n",
    "\n",
    "if a < 1:\n",
    "    print('less than 1')\n",
    "elif a < 2:\n",
    "    print('less than 2')\n",
    "elif a < 3:\n",
    "    print('less than 3')\n",
    "else:\n",
    "    print('at least 3')"
   ]
  },
  {
   "cell_type": "code",
   "execution_count": 11,
   "metadata": {},
   "outputs": [
    {
     "name": "stdout",
     "output_type": "stream",
     "text": [
      "less than 3\n"
     ]
    }
   ],
   "source": [
    "a = 2\n",
    "# the program will only run one section in the entire block\n",
    "if a < 1:\n",
    "    print('less than 1')\n",
    "elif a < 2:\n",
    "    print('less than 2')\n",
    "elif a < 3:\n",
    "    print('less than 3')\n",
    "elif a < 4:\n",
    "    print('less than 4')\n",
    "else:\n",
    "    print('at least 3')"
   ]
  },
  {
   "cell_type": "code",
   "execution_count": 14,
   "metadata": {},
   "outputs": [
    {
     "name": "stdout",
     "output_type": "stream",
     "text": [
      "happy\n",
      "less than 4\n"
     ]
    }
   ],
   "source": [
    "a = 2\n",
    "\n",
    "# a new 'if' creates a new if block\n",
    "if a < 3:\n",
    "    print('happy') \n",
    "if a < 4:\n",
    "    print('less than 4')\n",
    "else: \n",
    "    print('sad')"
   ]
  },
  {
   "cell_type": "code",
   "execution_count": 16,
   "metadata": {},
   "outputs": [
    {
     "name": "stdout",
     "output_type": "stream",
     "text": [
      "10\n",
      "13\n",
      "16\n"
     ]
    }
   ],
   "source": [
    "a = 2\n",
    "\n",
    "if a < 3:\n",
    "    b = 10\n",
    "print(b)\n",
    "if a < 6:\n",
    "    b = 13\n",
    "print(b)\n",
    "if a < 9:\n",
    "    b = 16\n",
    "print(b)"
   ]
  },
  {
   "cell_type": "code",
   "execution_count": 18,
   "metadata": {},
   "outputs": [
    {
     "name": "stdout",
     "output_type": "stream",
     "text": [
      "10\n"
     ]
    }
   ],
   "source": [
    "a = 2\n",
    "\n",
    "if a < 3:\n",
    "    b = 10\n",
    "\n",
    "elif a < 6:\n",
    "    b = 13\n",
    "\n",
    "elif a < 9:\n",
    "    b = 16\n",
    "print(b)"
   ]
  },
  {
   "cell_type": "code",
   "execution_count": 19,
   "metadata": {},
   "outputs": [
    {
     "name": "stdout",
     "output_type": "stream",
     "text": [
      "happy\n"
     ]
    }
   ],
   "source": [
    "# Nesting\n",
    "a = 2\n",
    "b = 3\n",
    "if a < 5:\n",
    "    if b > 1:\n",
    "        print('happy')\n",
    "    elif b > 3:\n",
    "        print('sad')\n",
    "    else:\n",
    "        print('idk')\n",
    "elif b == 3:\n",
    "    print('me')\n",
    "else:\n",
    "    print('funny')"
   ]
  },
  {
   "cell_type": "code",
   "execution_count": 20,
   "metadata": {},
   "outputs": [
    {
     "name": "stdout",
     "output_type": "stream",
     "text": [
      "idk\n"
     ]
    }
   ],
   "source": [
    "# Nesting\n",
    "a = 2\n",
    "b = -100\n",
    "if a < 5:\n",
    "    if b > 1:\n",
    "        print('happy')\n",
    "    elif b > 3:\n",
    "        print('sad')\n",
    "    else:\n",
    "        print('idk')\n",
    "elif b == 3:\n",
    "    print('me')\n",
    "else:\n",
    "    print('funny')"
   ]
  },
  {
   "cell_type": "code",
   "execution_count": 22,
   "metadata": {},
   "outputs": [
    {
     "name": "stdout",
     "output_type": "stream",
     "text": [
      "funny\n"
     ]
    }
   ],
   "source": [
    "# Nesting\n",
    "a = 100\n",
    "b = -100\n",
    "if a < 5:\n",
    "    if b > 1:\n",
    "        print('happy')\n",
    "    elif b > 3:\n",
    "        print('sad')\n",
    "    else:\n",
    "        print('idk')\n",
    "elif b == 3:\n",
    "    print('me')\n",
    "else:\n",
    "    print('funny')"
   ]
  },
  {
   "cell_type": "code",
   "execution_count": 27,
   "metadata": {},
   "outputs": [
    {
     "name": "stdout",
     "output_type": "stream",
     "text": [
      "bad\n",
      "e\n",
      "a\n",
      "10000\n"
     ]
    }
   ],
   "source": [
    "a = \"Mike\"\n",
    "if a[3] == 'k':\n",
    "    print('good')\n",
    "else:\n",
    "    print('bad')\n",
    "    print(a[3])\n",
    "    print('a')\n",
    "    a = 2\n",
    "    b = 10000\n",
    "    print(b)\n",
    "    \n",
    "c = 1"
   ]
  },
  {
   "cell_type": "code",
   "execution_count": 28,
   "metadata": {},
   "outputs": [
    {
     "ename": "TypeError",
     "evalue": "unsupported operand type(s) for +: 'int' and 'str'",
     "output_type": "error",
     "traceback": [
      "\u001b[0;31m---------------------------------------------------------------------------\u001b[0m",
      "\u001b[0;31mTypeError\u001b[0m                                 Traceback (most recent call last)",
      "\u001b[0;32m<ipython-input-28-f5e9f1cb921d>\u001b[0m in \u001b[0;36m<module>\u001b[0;34m\u001b[0m\n\u001b[1;32m      1\u001b[0m \u001b[0ma\u001b[0m \u001b[0;34m=\u001b[0m \u001b[0;36m32\u001b[0m\u001b[0;34m\u001b[0m\u001b[0;34m\u001b[0m\u001b[0m\n\u001b[0;32m----> 2\u001b[0;31m \u001b[0mprint\u001b[0m\u001b[0;34m(\u001b[0m\u001b[0;36m32\u001b[0m \u001b[0;34m+\u001b[0m \u001b[0;34m'degrees'\u001b[0m\u001b[0;34m)\u001b[0m\u001b[0;34m\u001b[0m\u001b[0;34m\u001b[0m\u001b[0m\n\u001b[0m",
      "\u001b[0;31mTypeError\u001b[0m: unsupported operand type(s) for +: 'int' and 'str'"
     ]
    }
   ],
   "source": [
    "a = 32\n",
    "print(32 + 'degrees')"
   ]
  },
  {
   "cell_type": "code",
   "execution_count": 29,
   "metadata": {},
   "outputs": [
    {
     "ename": "TypeError",
     "evalue": "unsupported operand type(s) for +: 'int' and 'str'",
     "output_type": "error",
     "traceback": [
      "\u001b[0;31m---------------------------------------------------------------------------\u001b[0m",
      "\u001b[0;31mTypeError\u001b[0m                                 Traceback (most recent call last)",
      "\u001b[0;32m<ipython-input-29-075273ed183d>\u001b[0m in \u001b[0;36m<module>\u001b[0;34m\u001b[0m\n\u001b[1;32m      1\u001b[0m \u001b[0ma\u001b[0m \u001b[0;34m=\u001b[0m \u001b[0;36m32\u001b[0m\u001b[0;34m\u001b[0m\u001b[0;34m\u001b[0m\u001b[0m\n\u001b[1;32m      2\u001b[0m \u001b[0mb\u001b[0m \u001b[0;34m=\u001b[0m \u001b[0;34m'mike'\u001b[0m\u001b[0;34m\u001b[0m\u001b[0;34m\u001b[0m\u001b[0m\n\u001b[0;32m----> 3\u001b[0;31m \u001b[0ma\u001b[0m \u001b[0;34m+\u001b[0m \u001b[0mb\u001b[0m\u001b[0;34m\u001b[0m\u001b[0;34m\u001b[0m\u001b[0m\n\u001b[0m",
      "\u001b[0;31mTypeError\u001b[0m: unsupported operand type(s) for +: 'int' and 'str'"
     ]
    }
   ],
   "source": [
    "a = 32\n",
    "b = 'mike'\n",
    "a + b"
   ]
  },
  {
   "cell_type": "code",
   "execution_count": 30,
   "metadata": {},
   "outputs": [
    {
     "data": {
      "text/plain": [
       "'32mike'"
      ]
     },
     "execution_count": 30,
     "metadata": {},
     "output_type": "execute_result"
    }
   ],
   "source": [
    "a = 32\n",
    "b = 'mike'\n",
    "c = str(a)\n",
    "c+b"
   ]
  },
  {
   "cell_type": "code",
   "execution_count": 31,
   "metadata": {},
   "outputs": [
    {
     "name": "stdout",
     "output_type": "stream",
     "text": [
      "32degrees\n"
     ]
    }
   ],
   "source": [
    "a = 32\n",
    "print(str(a) + 'degrees')"
   ]
  },
  {
   "cell_type": "code",
   "execution_count": null,
   "metadata": {},
   "outputs": [],
   "source": []
  }
 ],
 "metadata": {
  "kernelspec": {
   "display_name": "Python 3",
   "language": "python",
   "name": "python3"
  },
  "language_info": {
   "codemirror_mode": {
    "name": "ipython",
    "version": 3
   },
   "file_extension": ".py",
   "mimetype": "text/x-python",
   "name": "python",
   "nbconvert_exporter": "python",
   "pygments_lexer": "ipython3",
   "version": "3.7.4"
  }
 },
 "nbformat": 4,
 "nbformat_minor": 2
}
