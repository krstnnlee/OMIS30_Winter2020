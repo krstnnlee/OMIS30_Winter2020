{
 "cells": [
  {
   "cell_type": "code",
   "execution_count": null,
   "metadata": {},
   "outputs": [],
   "source": [
    "# Functions are a useful way to organize code"
   ]
  },
  {
   "cell_type": "code",
   "execution_count": null,
   "metadata": {},
   "outputs": [],
   "source": [
    "def check_if_value_positive():\n",
    "    if value > 1:\n",
    "        a = True\n",
    "    else:\n",
    "        a = False\n",
    "    return a\n",
    "\n",
    "while ...\n",
    "    check_if_value_positive\n",
    "while ...\n",
    "    check_if_value_positive\n",
    "while ...\n",
    "    check_if_value_positive\n"
   ]
  },
  {
   "cell_type": "code",
   "execution_count": null,
   "metadata": {},
   "outputs": [],
   "source": [
    "def check_if_value_positive(value, gtnumber):\n",
    "    if value > gtnumber:\n",
    "        a = True\n",
    "    else:\n",
    "        a = False\n",
    "    return a\n",
    "\n",
    "while ...\n",
    "    check_if_value_positive(old_distance, 0)\n",
    "while ...\n",
    "    check_if_value_positive(new_distance, 1)\n",
    "while ...\n",
    "    check_if_value_positive(threshold, 0)\n"
   ]
  },
  {
   "cell_type": "code",
   "execution_count": null,
   "metadata": {},
   "outputs": [],
   "source": [
    "# basic functions\n",
    "\n",
    "def myfunction(<inputs/parameters/arguments>):\n",
    "    do this\n",
    "    <return>"
   ]
  },
  {
   "cell_type": "code",
   "execution_count": null,
   "metadata": {},
   "outputs": [],
   "source": [
    "# things live locally\n",
    "# think of them as a mini-version of python\n",
    "# it doesn't know about the world outside\n",
    "\n",
    "# what happens in the function stays in the function\n",
    "\n",
    "a = 2\n",
    "def myfunction(a):\n",
    "    b = a + 2\n",
    "    print(b)\n",
    "# myfunction()\n",
    "\n",
    "print(a)\n",
    "print(b)"
   ]
  },
  {
   "cell_type": "code",
   "execution_count": null,
   "metadata": {},
   "outputs": [],
   "source": [
    "# things live locally\n",
    "# think of them as a mini-version of python\n",
    "# it doesn't know about the world outside\n",
    "\n",
    "# what happens in the function stays in the function\n",
    "\n",
    "# You can define functions, but you don't have to use them\n",
    "# def == defining the function\n",
    "# calling the function == running it == myfunction()\n",
    "a = 2\n",
    "\n",
    "def myfunction(a):\n",
    "    b = a + 2\n",
    "    print(b)\n",
    "    \n",
    "# myfunction()\n",
    "\n",
    "print(a)"
   ]
  },
  {
   "cell_type": "code",
   "execution_count": null,
   "metadata": {},
   "outputs": [],
   "source": [
    "def myfunction(a):\n",
    "    b = a + 2\n",
    "    print(b)\n",
    "    \n",
    "myfunction()"
   ]
  },
  {
   "cell_type": "code",
   "execution_count": null,
   "metadata": {},
   "outputs": [],
   "source": [
    "def myfunction(a):\n",
    "    b = a + 2\n",
    "    print(b)\n",
    "    \n",
    "myfunction(a = 2)"
   ]
  },
  {
   "cell_type": "code",
   "execution_count": null,
   "metadata": {},
   "outputs": [],
   "source": [
    "def myfunction(a):\n",
    "    b = a + 2\n",
    "    print(b)\n",
    "    \n",
    "myfunction(a = 5)"
   ]
  },
  {
   "cell_type": "code",
   "execution_count": null,
   "metadata": {},
   "outputs": [],
   "source": [
    "def myfunction(a):\n",
    "    b = a + 2\n",
    "    print(b)\n",
    "    \n",
    "myfunction(2)\n",
    "myfunction(5)\n",
    "myfunction(a=2)\n",
    "myfunction(a=5)"
   ]
  },
  {
   "cell_type": "code",
   "execution_count": null,
   "metadata": {},
   "outputs": [],
   "source": [
    "# you can take multiple inputs\n",
    "def myslope(m,x,b):\n",
    "    y = m*x + b\n",
    "    print(y)\n",
    "    \n",
    "myslope(1,2,3)\n",
    "\n",
    "# m = 1\n",
    "# x = 2\n",
    "# b = 3\n",
    "#...therefore y = 1*2 + 3"
   ]
  },
  {
   "cell_type": "code",
   "execution_count": null,
   "metadata": {},
   "outputs": [],
   "source": [
    "# you can take multiple inputs\n",
    "def myslope(m,x,b):\n",
    "    y = m*x + b\n",
    "    print(y)\n",
    "    \n",
    "myslope(x = 5, m = 2, b = 3)\n",
    "\n",
    "# m = 2\n",
    "# x = 5\n",
    "# b = 3"
   ]
  },
  {
   "cell_type": "code",
   "execution_count": null,
   "metadata": {},
   "outputs": [],
   "source": [
    "# you can also set defaults\n",
    "def myslope(m,x,b = 7):\n",
    "    y = m*x + b\n",
    "    print(y)\n",
    "    \n",
    "myslope(x = 1, m = 2)\n",
    "\n",
    "# m = 2\n",
    "# x = 1\n",
    "# b = 7"
   ]
  },
  {
   "cell_type": "code",
   "execution_count": null,
   "metadata": {},
   "outputs": [],
   "source": [
    "# you can also set defaults\n",
    "def myslope(m,x,b = 7):\n",
    "    y = m*x + b\n",
    "    print(y)\n",
    "    \n",
    "myslope(x = 1, m = 2, b = 10)\n",
    "\n",
    "# m = 2\n",
    "# x = 1\n",
    "# b = 7"
   ]
  },
  {
   "cell_type": "code",
   "execution_count": null,
   "metadata": {},
   "outputs": [],
   "source": [
    "# you can also set defaults\n",
    "def myslope(m,x,b):\n",
    "    y = m*x + b\n",
    "    print(y)\n",
    "    \n",
    "myslope(x = 1, m = 2)\n",
    "\n",
    "# m = 2\n",
    "# x = 1\n",
    "# b = 7"
   ]
  },
  {
   "cell_type": "code",
   "execution_count": 1,
   "metadata": {},
   "outputs": [
    {
     "name": "stdout",
     "output_type": "stream",
     "text": [
      "inside my function y = 5\n"
     ]
    },
    {
     "ename": "NameError",
     "evalue": "name 'y' is not defined",
     "output_type": "error",
     "traceback": [
      "\u001b[0;31m---------------------------------------------------------------------------\u001b[0m",
      "\u001b[0;31mNameError\u001b[0m                                 Traceback (most recent call last)",
      "\u001b[0;32m<ipython-input-1-b3398a8c2349>\u001b[0m in \u001b[0;36m<module>\u001b[0;34m\u001b[0m\n\u001b[1;32m      6\u001b[0m \u001b[0;34m\u001b[0m\u001b[0m\n\u001b[1;32m      7\u001b[0m \u001b[0mmyslope_print\u001b[0m\u001b[0;34m(\u001b[0m\u001b[0mx\u001b[0m \u001b[0;34m=\u001b[0m \u001b[0;36m1\u001b[0m\u001b[0;34m,\u001b[0m \u001b[0mm\u001b[0m \u001b[0;34m=\u001b[0m \u001b[0;36m2\u001b[0m\u001b[0;34m,\u001b[0m \u001b[0mb\u001b[0m \u001b[0;34m=\u001b[0m \u001b[0;36m3\u001b[0m\u001b[0;34m)\u001b[0m\u001b[0;34m\u001b[0m\u001b[0;34m\u001b[0m\u001b[0m\n\u001b[0;32m----> 8\u001b[0;31m \u001b[0mprint\u001b[0m\u001b[0;34m(\u001b[0m\u001b[0my\u001b[0m\u001b[0;34m)\u001b[0m\u001b[0;34m\u001b[0m\u001b[0;34m\u001b[0m\u001b[0m\n\u001b[0m",
      "\u001b[0;31mNameError\u001b[0m: name 'y' is not defined"
     ]
    }
   ],
   "source": [
    "# Remember that prints are for humans, returns are for computers\n",
    "\n",
    "def myslope_print(m,x,b):\n",
    "    y = m*x + b\n",
    "    print('inside my function y = ' + str(y))\n",
    "    \n",
    "myslope_print(x = 1, m = 2, b = 3)\n",
    "print(y)"
   ]
  },
  {
   "cell_type": "code",
   "execution_count": 5,
   "metadata": {},
   "outputs": [
    {
     "name": "stdout",
     "output_type": "stream",
     "text": [
      "5\n"
     ]
    },
    {
     "ename": "NameError",
     "evalue": "name 'y' is not defined",
     "output_type": "error",
     "traceback": [
      "\u001b[0;31m---------------------------------------------------------------------------\u001b[0m",
      "\u001b[0;31mNameError\u001b[0m                                 Traceback (most recent call last)",
      "\u001b[0;32m<ipython-input-5-463d853a53b3>\u001b[0m in \u001b[0;36m<module>\u001b[0;34m\u001b[0m\n\u001b[1;32m      5\u001b[0m \u001b[0mwhat_i_get_back\u001b[0m \u001b[0;34m=\u001b[0m \u001b[0mmyslope_return\u001b[0m\u001b[0;34m(\u001b[0m\u001b[0mx\u001b[0m \u001b[0;34m=\u001b[0m \u001b[0;36m1\u001b[0m\u001b[0;34m,\u001b[0m \u001b[0mm\u001b[0m \u001b[0;34m=\u001b[0m \u001b[0;36m2\u001b[0m\u001b[0;34m,\u001b[0m \u001b[0mb\u001b[0m \u001b[0;34m=\u001b[0m \u001b[0;36m3\u001b[0m\u001b[0;34m)\u001b[0m\u001b[0;34m\u001b[0m\u001b[0;34m\u001b[0m\u001b[0m\n\u001b[1;32m      6\u001b[0m \u001b[0mprint\u001b[0m\u001b[0;34m(\u001b[0m\u001b[0mwhat_i_get_back\u001b[0m\u001b[0;34m)\u001b[0m\u001b[0;34m\u001b[0m\u001b[0;34m\u001b[0m\u001b[0m\n\u001b[0;32m----> 7\u001b[0;31m \u001b[0mprint\u001b[0m\u001b[0;34m(\u001b[0m\u001b[0my\u001b[0m\u001b[0;34m)\u001b[0m\u001b[0;34m\u001b[0m\u001b[0;34m\u001b[0m\u001b[0m\n\u001b[0m",
      "\u001b[0;31mNameError\u001b[0m: name 'y' is not defined"
     ]
    }
   ],
   "source": [
    "def myslope_return(m,x,b):\n",
    "    y = m*x + b\n",
    "    return y\n",
    "    \n",
    "what_i_get_back = myslope_return(x = 1, m = 2, b = 3)\n",
    "print(what_i_get_back)\n",
    "print(y)"
   ]
  },
  {
   "cell_type": "code",
   "execution_count": 6,
   "metadata": {},
   "outputs": [
    {
     "name": "stdout",
     "output_type": "stream",
     "text": [
      "5\n"
     ]
    }
   ],
   "source": [
    "def myslope_return(m,x,b):\n",
    "    y = m*x + b\n",
    "    return y\n",
    "    \n",
    "y = myslope_return(x = 1, m = 2, b = 3)\n",
    "print(y)\n",
    "\n",
    "# Now there are two 'y's: one inside the function, and one outside"
   ]
  },
  {
   "cell_type": "code",
   "execution_count": 8,
   "metadata": {},
   "outputs": [
    {
     "name": "stdout",
     "output_type": "stream",
     "text": [
      "(5, 2)\n"
     ]
    }
   ],
   "source": [
    "# you can return multiple things\n",
    "def myslope_return(m,x,b):\n",
    "    y = m*x + b\n",
    "    z = y - b\n",
    "    return y, z\n",
    "    \n",
    "what_i_get_back = myslope_return(x = 1, m = 2, b = 3)\n",
    "print(what_i_get_back)\n",
    "\n",
    "# comes back as a tuple, in the same order that you returned them"
   ]
  },
  {
   "cell_type": "code",
   "execution_count": 9,
   "metadata": {},
   "outputs": [
    {
     "data": {
      "text/plain": [
       "tuple"
      ]
     },
     "execution_count": 9,
     "metadata": {},
     "output_type": "execute_result"
    }
   ],
   "source": [
    "type(what_i_get_back)"
   ]
  },
  {
   "cell_type": "code",
   "execution_count": 10,
   "metadata": {},
   "outputs": [
    {
     "name": "stdout",
     "output_type": "stream",
     "text": [
      "(2, 5)\n"
     ]
    }
   ],
   "source": [
    "# you can return multiple things\n",
    "def myslope_return(m,x,b):\n",
    "    y = m*x + b\n",
    "    z = y - b\n",
    "    return z, y\n",
    "    \n",
    "what_i_get_back = myslope_return(x = 1, m = 2, b = 3)\n",
    "print(what_i_get_back)"
   ]
  },
  {
   "cell_type": "code",
   "execution_count": 11,
   "metadata": {},
   "outputs": [
    {
     "name": "stdout",
     "output_type": "stream",
     "text": [
      "2\n",
      "5\n"
     ]
    }
   ],
   "source": [
    "# you can return multiple things\n",
    "def myslope_return(m,x,b):\n",
    "    y = m*x + b\n",
    "    z = y - b\n",
    "    return z, y\n",
    "    \n",
    "a, b = myslope_return(x = 1, m = 2, b = 3)\n",
    "print(a)\n",
    "print(b)"
   ]
  },
  {
   "cell_type": "code",
   "execution_count": 12,
   "metadata": {},
   "outputs": [
    {
     "name": "stdout",
     "output_type": "stream",
     "text": [
      "5\n",
      "2\n"
     ]
    }
   ],
   "source": [
    "# you can return multiple things\n",
    "def myslope_return(m,x,b):\n",
    "    y = m*x + b\n",
    "    z = y - b\n",
    "    return y, z\n",
    "    \n",
    "y, z = myslope_return(x = 1, m = 2, b = 3)\n",
    "print(y)\n",
    "print(z)"
   ]
  },
  {
   "cell_type": "code",
   "execution_count": 13,
   "metadata": {},
   "outputs": [
    {
     "name": "stdout",
     "output_type": "stream",
     "text": [
      "2\n",
      "5\n"
     ]
    }
   ],
   "source": [
    "# you can return multiple things\n",
    "def myslope_return(m,x,b):\n",
    "    y = m*x + b\n",
    "    z = y - b\n",
    "    return z, y\n",
    "    \n",
    "y, z = myslope_return(x = 1, m = 2, b = 3)\n",
    "print(y)\n",
    "print(z)"
   ]
  },
  {
   "cell_type": "code",
   "execution_count": 15,
   "metadata": {},
   "outputs": [
    {
     "name": "stdout",
     "output_type": "stream",
     "text": [
      "5\n",
      "-1\n"
     ]
    }
   ],
   "source": [
    "# you can return multiple things\n",
    "def myslope_return(m,x,b):\n",
    "    y_value = m*x + b\n",
    "    my_roi = y - b\n",
    "    return y_value, my_roi\n",
    "    \n",
    "return_y_value, return_roi = myslope_return(x = 1, m = 2, b = 3)\n",
    "print(return_y_value)\n",
    "print(return_roi)"
   ]
  },
  {
   "cell_type": "code",
   "execution_count": null,
   "metadata": {},
   "outputs": [],
   "source": []
  }
 ],
 "metadata": {
  "kernelspec": {
   "display_name": "Python 3",
   "language": "python",
   "name": "python3"
  },
  "language_info": {
   "codemirror_mode": {
    "name": "ipython",
    "version": 3
   },
   "file_extension": ".py",
   "mimetype": "text/x-python",
   "name": "python",
   "nbconvert_exporter": "python",
   "pygments_lexer": "ipython3",
   "version": "3.7.4"
  }
 },
 "nbformat": 4,
 "nbformat_minor": 2
}
