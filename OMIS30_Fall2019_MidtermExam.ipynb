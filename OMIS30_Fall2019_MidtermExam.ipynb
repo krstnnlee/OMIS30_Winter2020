{
 "cells": [
  {
   "cell_type": "markdown",
   "metadata": {},
   "source": [
    "# OMIS 30 - Fall 2019 - Midterm Exam\n",
    "##### Nov 12, 2019"
   ]
  },
  {
   "cell_type": "markdown",
   "metadata": {},
   "source": [
    "#### Write your name on every page please.  For each question, write your answer in the right hand section of each box.  Be sure to include quotes, parentheses, decimal places, braces, etc. and proper capitalization wherever necessary."
   ]
  },
  {
   "cell_type": "code",
   "execution_count": null,
   "metadata": {},
   "outputs": [],
   "source": [
    "# If there is only one question in the box, anywhere on the right hand side is OK.\n",
    "# If there is >1 question in a box, answer on the right hand side level with the question.\n",
    "# If you showed any work, please be sure to circle your final answer(s).\n",
    "# i += 1 notation is shortcut for writing i = i + 1"
   ]
  },
  {
   "cell_type": "markdown",
   "metadata": {},
   "source": [
    "## Identify the type of variable for each variable (11 questions, 1 points each)"
   ]
  },
  {
   "cell_type": "code",
   "execution_count": null,
   "metadata": {},
   "outputs": [],
   "source": [
    "yourVariable = (2,2)\n",
    "type(yourVariable)"
   ]
  },
  {
   "cell_type": "code",
   "execution_count": null,
   "metadata": {},
   "outputs": [],
   "source": [
    "yourVariable = False\n",
    "type(yourVariable)"
   ]
  },
  {
   "cell_type": "code",
   "execution_count": null,
   "metadata": {},
   "outputs": [],
   "source": [
    "yourVariable = {\"Donald\",\"Barack\",\"George W.\",\"Bill\"}\n",
    "type(yourVariable)"
   ]
  },
  {
   "cell_type": "code",
   "execution_count": null,
   "metadata": {},
   "outputs": [],
   "source": [
    "yourVariable = [[\"Donald\",\"Barack\",\"George W.\",\"Bill\"],[\"Trump\",\"Obama\",\"Bush\",\"Clinton\"]]\n",
    "type(yourVariable)"
   ]
  },
  {
   "cell_type": "code",
   "execution_count": null,
   "metadata": {},
   "outputs": [],
   "source": [
    "yourVariable = 25. - 1\n",
    "type(yourVariable)"
   ]
  },
  {
   "cell_type": "code",
   "execution_count": null,
   "metadata": {},
   "outputs": [],
   "source": [
    "yourVariable = 5\n",
    "type(yourVariable)"
   ]
  },
  {
   "cell_type": "code",
   "execution_count": null,
   "metadata": {},
   "outputs": [],
   "source": [
    "yourVariable = \"\"\"Do you like two percent milk?\"\"\"\n",
    "type(yourVariable)"
   ]
  },
  {
   "cell_type": "code",
   "execution_count": null,
   "metadata": {},
   "outputs": [],
   "source": [
    "yourVariable = 'True'\n",
    "type(yourVariable)"
   ]
  },
  {
   "cell_type": "code",
   "execution_count": null,
   "metadata": {},
   "outputs": [],
   "source": [
    "yourVariable = ['What color are your shoes?']\n",
    "type(yourVariable)"
   ]
  },
  {
   "cell_type": "code",
   "execution_count": null,
   "metadata": {},
   "outputs": [],
   "source": [
    "yourVariable = {\"Donald\":\"Trump\",\"Barack\":\"Obama\",\"George W.\":\"Bush\",\"Bill\":\"Clinton\"}\n",
    "type(yourVariable)"
   ]
  },
  {
   "cell_type": "code",
   "execution_count": null,
   "metadata": {},
   "outputs": [],
   "source": [
    "yourVariable = 99 / 11\n",
    "type(yourVariable)"
   ]
  },
  {
   "cell_type": "markdown",
   "metadata": {},
   "source": [
    "## Determine the output of each statement (6 questions, 1 points each)"
   ]
  },
  {
   "cell_type": "code",
   "execution_count": null,
   "metadata": {},
   "outputs": [],
   "source": [
    "yourVariable = round(8/3,2)\n",
    "yourVariable"
   ]
  },
  {
   "cell_type": "code",
   "execution_count": null,
   "metadata": {},
   "outputs": [],
   "source": [
    "yourVariable = 2.0 / 1\n",
    "yourVariable"
   ]
  },
  {
   "cell_type": "code",
   "execution_count": null,
   "metadata": {},
   "outputs": [],
   "source": [
    "yourVariable = True * False\n",
    "yourVariable"
   ]
  },
  {
   "cell_type": "code",
   "execution_count": null,
   "metadata": {},
   "outputs": [],
   "source": [
    "yourVariable = int(-8/3)\n",
    "yourVariable"
   ]
  },
  {
   "cell_type": "code",
   "execution_count": null,
   "metadata": {},
   "outputs": [],
   "source": [
    "yourVariable = 'alpha' + 'beta'\n",
    "yourVariable"
   ]
  },
  {
   "cell_type": "code",
   "execution_count": null,
   "metadata": {},
   "outputs": [],
   "source": [
    "yourVariable = 3 != 4\n",
    "yourVariable"
   ]
  },
  {
   "cell_type": "code",
   "execution_count": null,
   "metadata": {},
   "outputs": [],
   "source": [
    "# Are you of legal drinking age in your jurisdiction? -->"
   ]
  },
  {
   "cell_type": "markdown",
   "metadata": {},
   "source": [
    "## Using the below variable definition, determine the outputs of the next block of questions. (8 questions, 2 points each)"
   ]
  },
  {
   "cell_type": "code",
   "execution_count": null,
   "metadata": {},
   "outputs": [],
   "source": [
    "# No question here! Just writing the variable and showing you the output in a pretty format!\n",
    "yourVariable = {'Whiteclaw': ['Raspberry', 'Mango', 'Black Cherry', \n",
    "                              'Natural Lime', 'Ruby Grapefruit'],\n",
    "               'Truly': ['Wild Berry', 'Blueberry & Acai', 'Raspberry Lime',\n",
    "                         'Black Cherry', 'Lime', 'Grapefruit', 'Orange', 'Lemon',\n",
    "                         'Pineapple', 'Mango', 'Passion Fruit', 'Watermelon & Kiwi'],\n",
    "               \"Henry's\": ['Blueberry Lemon', 'Pineapple', 'Lemon Lime', \n",
    "                           'Strawberry Kiwi', 'Passion Fruit', 'Peach Mango']}"
   ]
  },
  {
   "cell_type": "code",
   "execution_count": null,
   "metadata": {},
   "outputs": [],
   "source": [
    "yourVariable['Truly'][7]"
   ]
  },
  {
   "cell_type": "code",
   "execution_count": null,
   "metadata": {},
   "outputs": [],
   "source": [
    "yourVariable['Whiteclaw'][0:2]"
   ]
  },
  {
   "cell_type": "code",
   "execution_count": null,
   "metadata": {},
   "outputs": [],
   "source": [
    "yourVariable['Truly'][0].split()"
   ]
  },
  {
   "cell_type": "code",
   "execution_count": null,
   "metadata": {},
   "outputs": [],
   "source": [
    "type(yourVariable['Truly'][0].split())"
   ]
  },
  {
   "cell_type": "code",
   "execution_count": null,
   "metadata": {},
   "outputs": [],
   "source": [
    "yourVariable[\"Henry's\"][1].upper()"
   ]
  },
  {
   "cell_type": "code",
   "execution_count": null,
   "metadata": {},
   "outputs": [],
   "source": [
    "len(yourVariable)"
   ]
  },
  {
   "cell_type": "code",
   "execution_count": null,
   "metadata": {},
   "outputs": [],
   "source": [
    "len(yourVariable['Whiteclaw'])"
   ]
  },
  {
   "cell_type": "code",
   "execution_count": null,
   "metadata": {},
   "outputs": [],
   "source": [
    "len(yourVariable['Truly'][1].split('e'))"
   ]
  },
  {
   "cell_type": "markdown",
   "metadata": {},
   "source": [
    "## If statements (2 questions, 3 points each)"
   ]
  },
  {
   "cell_type": "code",
   "execution_count": null,
   "metadata": {},
   "outputs": [],
   "source": [
    "# \"If Statements\": #1\n",
    "first_name = 'cookies'\n",
    "last_name = 'milk'\n",
    "nick_name = 'St. Nick'\n",
    "\n",
    "if first_name == 'cookies' and last_name == 'milk':\n",
    "    print('first')\n",
    "elif first_name == 'cookies' and nick_name == 'St. Nick':\n",
    "    print('second')\n",
    "else:\n",
    "    print('third')\n",
    "    \n",
    "# Q: What will this piece of code print? -->"
   ]
  },
  {
   "cell_type": "code",
   "execution_count": null,
   "metadata": {},
   "outputs": [],
   "source": [
    "# \"If Statements\": #2\n",
    "str3 = ['Mike', 'Joe']\n",
    "\n",
    "if str3[0] == 'Mike':\n",
    "    a = str3[0]\n",
    "elif str3[1] == 'Joe':\n",
    "    a = str3[1]\n",
    "if str3[0] == 'Mike':\n",
    "    a = str3[0]\n",
    "else:\n",
    "    a = 'none'\n",
    "\n",
    "# Q: What will the value of a be at the end? -->\n",
    "print(a)"
   ]
  },
  {
   "cell_type": "markdown",
   "metadata": {},
   "source": [
    "## Try Except (2 questions, 3 points each)"
   ]
  },
  {
   "cell_type": "code",
   "execution_count": null,
   "metadata": {},
   "outputs": [],
   "source": [
    "# \"Try/Excepts\": #1\n",
    "n = 3\n",
    "x = 0\n",
    "while x == 0:\n",
    "    try:\n",
    "        if n >= 3:\n",
    "            x = 1\n",
    "            print('\\n')\n",
    "        else:\n",
    "            print(\"Try again. You need a number greater than \" + str(x-1))\n",
    "    except Exception as e:\n",
    "        print('Try entering an integer.')\n",
    "\n",
    "# Q: What will the final value of x be? -->\n",
    "print(x)"
   ]
  },
  {
   "cell_type": "code",
   "execution_count": null,
   "metadata": {},
   "outputs": [],
   "source": [
    "# \"Try/Excepts\": #2\n",
    "a = 'three'\n",
    "try:\n",
    "    x = int(a)\n",
    "    print('Good job')\n",
    "except:\n",
    "    print('Bad job')\n",
    "\n",
    "# Q: What will print?"
   ]
  },
  {
   "cell_type": "markdown",
   "metadata": {},
   "source": [
    "## While loops (2 questions, 3 points each)"
   ]
  },
  {
   "cell_type": "code",
   "execution_count": null,
   "metadata": {},
   "outputs": [],
   "source": [
    "# \"While loops\": #1\n",
    "yourlist = ['alpha', 'beta', 'gamma', 'delta', 'epsilon', 'zeta', 'eta', 'theta']\n",
    "num_loops = 0\n",
    "newlist = list()\n",
    "while len(yourlist) > 0:\n",
    "    rand_num = 0\n",
    "    element_to_move = yourlist[rand_num]\n",
    "    yourlist.remove( element_to_move )\n",
    "    newlist.append( element_to_move )   \n",
    "    num_loops += 1\n",
    "    \n",
    "# Q: How many times did the loop run? -->\n",
    "print(num_loops)"
   ]
  },
  {
   "cell_type": "code",
   "execution_count": null,
   "metadata": {},
   "outputs": [],
   "source": [
    "# \"While loops\": #2\n",
    "not_your_cheese = False\n",
    "num_loops = 0\n",
    "while not_your_cheese:\n",
    "    num_loops += 1\n",
    "    if int(num_loops / 2) == 1:\n",
    "        starting_condition = False\n",
    "    print('This is the ' + str(num_loops) + 'th time the loop has run.')\n",
    "\n",
    "# Q: How many times will this loop start? -->\n",
    "print(num_loops)\n",
    "\n",
    "\n",
    "# Q: What is the value of num_loops at the end? -->\n",
    "print(num_loops)"
   ]
  },
  {
   "cell_type": "markdown",
   "metadata": {},
   "source": [
    "## For loops (6 questions, 4 points each)"
   ]
  },
  {
   "cell_type": "code",
   "execution_count": null,
   "metadata": {},
   "outputs": [],
   "source": [
    "# \"For loops:\" #1\n",
    "whiteclaw = ['Raspberry', 'Mango', 'Black Cherry', 'Natural Lime', 'Ruby Grapefruit']\n",
    "num_loops = 0\n",
    "for flavor in whiteclaw:\n",
    "    num_loops += 1\n",
    "    best_flavor = flavor\n",
    "\n",
    "# Q: How many times will this loop run? -->\n",
    "print(num_loops)\n",
    "\n",
    "# Q: What will the ending value of best_flavor be? -->\n",
    "print(best_flavor)"
   ]
  },
  {
   "cell_type": "code",
   "execution_count": null,
   "metadata": {},
   "outputs": [],
   "source": [
    "# \"For loops:\" #2\n",
    "whiteclaw = ['Raspberry', 'Mango', 'Black Cherry', 'Natural Lime', 'Ruby Grapefruit']\n",
    "num_loops = 0\n",
    "other_flavors = list()\n",
    "for flavor in whiteclaw:\n",
    "    num_loops += 1\n",
    "    if flavor[0] != 'R':\n",
    "        other_flavors.append(flavor)\n",
    "        best_flavor = flavor\n",
    "\n",
    "# Q: How many elements will be in the other_flavors list? -->\n",
    "print(len(other_flavors))\n",
    "\n",
    "# Q: What will be ending value of best_flavor be? -->\n",
    "print(best_flavor)"
   ]
  },
  {
   "cell_type": "code",
   "execution_count": null,
   "metadata": {},
   "outputs": [],
   "source": [
    "# \"For loops:\" #3\n",
    "seltzers = {'Whiteclaw': ['Raspberry', 'Mango', 'Black Cherry', \n",
    "                              'Natural Lime', 'Ruby Grapefruit'],\n",
    "               'Truly': ['Wild Berry', 'Blueberry & Acai', 'Raspberry Lime',\n",
    "                         'Black Cherry', 'Lime', 'Grapefruit', 'Orange', 'Lemon',\n",
    "                         'Pineapple', 'Mango', 'Passion Fruit', 'Watermelon & Kiwi'],\n",
    "               \"Henry's\": ['Blueberry Lemon', 'Pineapple', 'Lemon Lime', \n",
    "                           'Strawberry Kiwi', 'Passion Fruit', 'Peach Mango']}\n",
    "num_loops = 0\n",
    "keys = set()\n",
    "for key, value in seltzers.items():\n",
    "    num_loops += 1\n",
    "    keys.add(key)\n",
    "\n",
    "# Q: How many times will this loop run? -->\n",
    "print(num_loops)\n",
    "\n",
    "# Q: What will the ending value of keys be? -->\n",
    "print(keys)"
   ]
  },
  {
   "cell_type": "code",
   "execution_count": null,
   "metadata": {},
   "outputs": [],
   "source": [
    "# \"For loops:\" #4\n",
    "seltzers = {'Whiteclaw': ['Raspberry', 'Mango', 'Black Cherry', \n",
    "                              'Natural Lime', 'Ruby Grapefruit'],\n",
    "               'Truly': ['Wild Berry', 'Blueberry & Acai', 'Raspberry Lime',\n",
    "                         'Black Cherry', 'Lime', 'Grapefruit', 'Orange', 'Lemon',\n",
    "                         'Pineapple', 'Mango', 'Passion Fruit', 'Watermelon & Kiwi'],\n",
    "               \"Henry's\": ['Blueberry Lemon', 'Pineapple', 'Lemon Lime', \n",
    "                           'Strawberry Kiwi', 'Passion Fruit', 'Peach Mango']}\n",
    "num_loops = 0\n",
    "i = 0\n",
    "for key, value in seltzers.items():\n",
    "    num_loops += 1\n",
    "    i += 2\n",
    "\n",
    "# Q: How many times will this loop run? -->\n",
    "print(num_loops)\n",
    "\n",
    "# Q: What will the ending value of i be? -->\n",
    "print(i)"
   ]
  },
  {
   "cell_type": "code",
   "execution_count": null,
   "metadata": {},
   "outputs": [],
   "source": [
    "# \"For loops:\" #5 and #6 (8 points total)\n",
    "a = 5\n",
    "b = 10\n",
    "c = 15\n",
    "num_loops = 0\n",
    "for i in range(0,a,1):\n",
    "    num_loops += 1\n",
    "    a = a + i\n",
    "\n",
    "for j in range(0,b,2):\n",
    "    num_loops += 1\n",
    "    b = c\n",
    "\n",
    "# Q: How many times will these loops run (total)? -->\n",
    "print(num_loops)\n",
    "\n",
    "# Q: What will the ending value of i be? -->\n",
    "print(i)\n",
    "\n",
    "# Q: What will the ending value of b be? -->\n",
    "print(b)\n",
    "\n",
    "# Q: What will the ending value of j be? -->\n",
    "print(j)"
   ]
  },
  {
   "cell_type": "markdown",
   "metadata": {},
   "source": [
    "## Functions (8 questions, 3 points each)"
   ]
  },
  {
   "cell_type": "code",
   "execution_count": null,
   "metadata": {},
   "outputs": [],
   "source": [
    "# Functions: #1\n",
    "def getBestFlavor(list_of_flavors):\n",
    "    best_flavor = list_of_flavors[0]\n",
    "    return best_flavor\n",
    "\n",
    "# Q: What will the function below return? -->\n",
    "getBestFlavor(['Raspberry', 'Mango', 'Black Cherry', 'Natural Lime', 'Ruby Grapefruit'])"
   ]
  },
  {
   "cell_type": "code",
   "execution_count": null,
   "metadata": {},
   "outputs": [],
   "source": [
    "# Functions: #2\n",
    "def getBestFlavor(list_of_flavors = 'Black Cherry'):\n",
    "    best_flavor = list_of_flavors[0]\n",
    "    return best_flavor\n",
    "\n",
    "# Q: What will the function below return? -->\n",
    "getBestFlavor(['Raspberry', 'Mango', 'Black Cherry', 'Natural Lime', 'Ruby Grapefruit'])"
   ]
  },
  {
   "cell_type": "code",
   "execution_count": null,
   "metadata": {},
   "outputs": [],
   "source": [
    "# Functions: #3\n",
    "def getBestFlavor(list_of_flavors = 'Black Cherry'):\n",
    "    best_flavor = list_of_flavors[0]\n",
    "    return best_flavor\n",
    "\n",
    "# Q: What will the function below return? -->\n",
    "getBestFlavor()"
   ]
  },
  {
   "cell_type": "code",
   "execution_count": null,
   "metadata": {},
   "outputs": [],
   "source": [
    "## What is your favourite flavor? -->"
   ]
  },
  {
   "cell_type": "code",
   "execution_count": null,
   "metadata": {},
   "outputs": [],
   "source": [
    "# Functions: #4\n",
    "def whatIsTheWorstBrand(a = 'Whiteclaw'):\n",
    "    return a\n",
    "\n",
    "# Q: What will the function below return? -->\n",
    "whatIsTheWorstBrand()"
   ]
  },
  {
   "cell_type": "code",
   "execution_count": null,
   "metadata": {},
   "outputs": [],
   "source": [
    "# Functions: #5\n",
    "def whatIsTheWorstBrand(list_of_brands):\n",
    "    return list_of_brands[1]\n",
    "\n",
    "# Q: What will the function below return? -->\n",
    "whatIsTheWorstBrand(['Whiteclaw', 'Truly', \"Henry's\"])"
   ]
  },
  {
   "cell_type": "code",
   "execution_count": null,
   "metadata": {
    "scrolled": true
   },
   "outputs": [],
   "source": [
    "# Functions: #6 & #7 (6 points total)\n",
    "def whatIsTheWorstBrand(list_of_brands, c = \"Henry's\"):\n",
    "    x = list_of_brands[1]\n",
    "    y = list_of_brands[2]\n",
    "    return y, x\n",
    "\n",
    "a, b = whatIsTheWorstBrand(['Whiteclaw', 'Truly', \"Henry's\"])\n",
    "\n",
    "# Q: What will the value of a be after the above code? -->\n",
    "print(a)\n",
    "\n",
    "# Q: What will the value of b be after the above code? -->\n",
    "print(b)"
   ]
  },
  {
   "cell_type": "code",
   "execution_count": null,
   "metadata": {},
   "outputs": [],
   "source": [
    "# Functions: #8\n",
    "def getStudentGrade(n):\n",
    "    n = n + 2\n",
    "    global(n)\n",
    "\n",
    "# Q: What will your grade for the course be if you try to run this function? -->\n",
    "print(0)"
   ]
  },
  {
   "cell_type": "markdown",
   "metadata": {},
   "source": [
    "## Error checking (3 questions, 3 points each)"
   ]
  },
  {
   "cell_type": "code",
   "execution_count": null,
   "metadata": {},
   "outputs": [],
   "source": [
    "# Error checking #1\n",
    "whiteclaw = ['Raspberry', 'Mango', 'Black Cherry', 'Natural Lime', 'Ruby Grapefruit']\n",
    "print(whiteclaw[5])\n",
    "\n",
    "# Q: Why are we getting this error? Explain in words (not code). \" IndexError: list index out of range \"\n",
    "\n",
    "\n",
    "\n",
    "#"
   ]
  },
  {
   "cell_type": "code",
   "execution_count": null,
   "metadata": {},
   "outputs": [],
   "source": [
    "# Error checking #2\n",
    "a = 'hello'\n",
    "b = int(a)\n",
    "print(b)\n",
    "\n",
    "# Q: Why are we getting this error? Explain in words (not code). \" ValueError: invalid literal for int() with base 10: 'hello' \"\n",
    "\n",
    "\n",
    "\n",
    "#"
   ]
  },
  {
   "cell_type": "code",
   "execution_count": null,
   "metadata": {},
   "outputs": [],
   "source": [
    "# Error checking #3\n",
    "def new_function(a):\n",
    "    print(a)\n",
    "    \n",
    "new_function()  \n",
    "    \n",
    "# Q: Why are we getting this error? Explain in words (not code). \" TypeError: new_function() missing 1 required positional argument: 'a' \"\n",
    "\n",
    "\n",
    "\n",
    "#"
   ]
  }
 ],
 "metadata": {
  "kernelspec": {
   "display_name": "Python 3",
   "language": "python",
   "name": "python3"
  },
  "language_info": {
   "codemirror_mode": {
    "name": "ipython",
    "version": 3
   },
   "file_extension": ".py",
   "mimetype": "text/x-python",
   "name": "python",
   "nbconvert_exporter": "python",
   "pygments_lexer": "ipython3",
   "version": "3.7.4"
  }
 },
 "nbformat": 4,
 "nbformat_minor": 2
}